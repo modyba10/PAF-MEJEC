{
  "nbformat": 4,
  "nbformat_minor": 0,
  "metadata": {
    "colab": {
      "provenance": [],
      "include_colab_link": true
    },
    "kernelspec": {
      "name": "python3",
      "display_name": "Python 3"
    },
    "language_info": {
      "name": "python"
    }
  },
  "cells": [
    {
      "cell_type": "markdown",
      "metadata": {
        "id": "view-in-github",
        "colab_type": "text"
      },
      "source": [
        "<a href=\"https://colab.research.google.com/github/modyba10/PAF-MEJEC/blob/main/ML.ipynb\" target=\"_parent\"><img src=\"https://colab.research.google.com/assets/colab-badge.svg\" alt=\"Open In Colab\"/></a>"
      ]
    },
    {
      "cell_type": "markdown",
      "source": [
        "Dataset : https://challenge2020.isic-archive.com"
      ],
      "metadata": {
        "id": "wTbEmA-J5nfM"
      }
    },
    {
      "cell_type": "markdown",
      "source": [
        "Importation des bibliothèques\n",
        "\n"
      ],
      "metadata": {
        "id": "G5MdoJsS2-v3"
      }
    },
    {
      "cell_type": "code",
      "execution_count": null,
      "metadata": {
        "id": "PkFmcbnM2rv2"
      },
      "outputs": [],
      "source": [
        "import numpy as np\n",
        "import pandas as pd\n",
        "import matplotlib.pyplot as plt\n",
        "import seaborn as sns\n",
        "import cv2\n",
        "import pydicom as dicom\n",
        "import pandas as pd\n",
        "import numpy as np\n",
        "import tensorflow as tf\n",
        "from sklearn.metrics import accuracy_score, confusion_matrix\n",
        "from sklearn.metrics import mean_squared_error, r2_score"
      ]
    },
    {
      "cell_type": "markdown",
      "source": [
        "Analyse du Dataset"
      ],
      "metadata": {
        "id": "WteZ2iTs3Ezf"
      }
    },
    {
      "cell_type": "code",
      "source": [
        "df = pd.read_csv('train.csv')\n",
        "\n",
        "#s0 = df.target[df.target.eq(0)].sample(60).index\n",
        "#s1 = df.target[df.target.eq(1)].sample(60).index\n",
        "#df = df.loc[s0.union(s1)]\n",
        "#df['target'].value_counts()\n",
        "\n",
        "indexes = df.index\n",
        "age = []\n",
        "for i in indexes:\n",
        "    try:\n",
        "        if df['target'][i] == 1:\n",
        "            age.append(df['age_approx'][i])\n",
        "    except:\n",
        "        pass\n",
        "\n",
        "plt.figure(figsize=(15, 5))\n",
        "plt.subplot(1, 2, 1)\n",
        "sns.histplot(age)\n",
        "plt.title('Distribution of age of people having melanoma')\n",
        "\n",
        "plt.subplot(1, 2, 2)\n",
        "sns.countplot(x=age)\n",
        "plt.xlabel('Age')\n",
        "plt.title('Count plot of age of people having malignant cancer')\n",
        "\n",
        "plt.show()\n",
        "\n",
        "df = df.rename(columns = {'anatom_site_general_challenge':'site'})\n",
        "\n",
        "site = []\n",
        "for i in indexes:\n",
        "    try:\n",
        "        if df['target'][i] == 1:\n",
        "            site.append(df['site'][i])\n",
        "    except:\n",
        "        pass\n",
        "sns.countplot(y = site)\n",
        "sns.countplot(y = site, palette=\"rocket\")\n",
        "plt.title('Count of patients having cancer and the site it is located in')\n",
        "plt.ylabel('Site')\n",
        "\n",
        "plt.show()"
      ],
      "metadata": {
        "id": "vkOfKejJ3LrL"
      },
      "execution_count": null,
      "outputs": []
    },
    {
      "cell_type": "markdown",
      "source": [
        "Chargement des Images (DICOM)"
      ],
      "metadata": {
        "id": "ZjT58Clc3V1R"
      }
    },
    {
      "cell_type": "code",
      "source": [
        "# Test loading DICOM Images\n",
        "\n",
        "image = 'train/' + df['image_name'][1501] +'.dcm'\n",
        "ds = dicom.dcmread(image)\n",
        "plt.imshow(ds.pixel_array)\n",
        "\n",
        "# load all the Images\n",
        "\n",
        "images = []\n",
        "for x in df['image_name']:\n",
        "    image = 'train/' + x +'.dcm'\n",
        "    ds = dicom.dcmread(image)\n",
        "    pixels = ds.pixel_array\n",
        "    images.append(pixels.flatten())\n",
        "\n",
        "# normalise number of pixels for every image (padding)\n",
        "\n",
        "images = tf.keras.preprocessing.sequence.pad_sequences(\n",
        "  images,\n",
        "  maxlen = 720,\n",
        "  dtype = \"int32\",\n",
        "  padding = \"pre\",\n",
        "  truncating = \"pre\",\n",
        "  value = 0\n",
        ")"
      ],
      "metadata": {
        "id": "scaX5AIP3cFw"
      },
      "execution_count": null,
      "outputs": []
    },
    {
      "cell_type": "markdown",
      "source": [
        "Test"
      ],
      "metadata": {
        "id": "UGhYmDw13mHY"
      }
    },
    {
      "cell_type": "code",
      "source": [
        "# Test dataset\n",
        "\n",
        "test = df.tail(50)\n",
        "test.head()\n",
        "\n",
        "# padding test\n",
        "\n",
        "test_images = []\n",
        "count = 0\n",
        "for x in test['image_name']:\n",
        "    image = 'train/' + x + '.dcm'\n",
        "    ds = dicom.dcmread(image)\n",
        "    pixels = ds.pixel_array\n",
        "    test_images.append(pixels.flatten())\n",
        "    count += 1\n",
        "    print(count)\n",
        "\n",
        "\n",
        "test_images = tf.keras.preprocessing.sequence.pad_sequences(\n",
        "    test_images,\n",
        "    maxlen=720,\n",
        "    dtype=\"int32\",\n",
        "    padding=\"pre\",\n",
        "    truncating=\"pre\",\n",
        "    value=0\n",
        ")"
      ],
      "metadata": {
        "id": "BS_OmnIi3n-e"
      },
      "execution_count": null,
      "outputs": []
    },
    {
      "cell_type": "markdown",
      "source": [
        "Entrainement des différents algorithmes de ML"
      ],
      "metadata": {
        "id": "AtBI65D43xuB"
      }
    },
    {
      "cell_type": "code",
      "source": [
        "# TRAINING\n",
        "\n",
        "\"\"\"\n",
        "X = images (list containing images in pixel format)\n",
        "y = np.array(df[‘target’]) (values that state whether the lesion in the image is benign or malignant)\n",
        "\"\"\"\n",
        "\n",
        "# 1) logistic regression\n",
        "\n",
        "from sklearn.linear_model import LogisticRegression\n",
        "X = images\n",
        "y = np.array(df['target'])\n",
        "classifier_lr = LogisticRegression()\n",
        "classifier_lr.fit(X,y)\n",
        "X_test = test_images\n",
        "y_test = np.array(test['target'])\n",
        "y_pred_lr = classifier_lr.predict(X_test)\n",
        "print('Accuracy Score: ',accuracy_score(y_test,y_pred_lr))\n",
        "print('Confusion Matrix: \\n',confusion_matrix(y_test,y_pred_lr))\n",
        "\n",
        "# 2) SVM\n",
        "\n",
        "from sklearn import svm\n",
        "X = images\n",
        "y = np.array(df['target'])\n",
        "classifier_svm = svm.SVC()\n",
        "classifier_svm.fit(X,y)\n",
        "X_test = test_images\n",
        "y_test = np.array(test['target'])\n",
        "y_pred_svm = classifier_svm.predict(X_test)\n",
        "print('Accuracy Score: ',accuracy_score(y_test,y_pred_svm))\n",
        "print('Confusion Matrix: \\n',confusion_matrix(y_test,y_pred_svm))\n",
        "\n",
        "# 3) Decision Tree\n",
        "\n",
        "from sklearn.tree import DecisionTreeClassifier\n",
        "X = images\n",
        "y = np.array(df['target'])\n",
        "classifier_dt = DecisionTreeClassifier()\n",
        "classifier_dt.fit(X,y)\n",
        "X_test = test_images\n",
        "y_test = np.array(test['target'])\n",
        "y_pred_dt = classifier_dt.predict(X_test)\n",
        "print('Accuracy Score: ',accuracy_score(y_test,y_pred_dt))\n",
        "print('Confusion Matrix: \\n',confusion_matrix(y_test,y_pred_dt))\n",
        "\n",
        "# 4) Random Forest\n",
        "\n",
        "from sklearn.ensemble import RandomForestClassifier\n",
        "X = images\n",
        "y = np.array(df['target'])\n",
        "classifier_rf = RandomForestClassifier()\n",
        "classifier_rf.fit(X,y)\n",
        "X_test = test_images\n",
        "y_test = np.array(test['target'])\n",
        "y_pred_rf = classifier_rf.predict(X_test)\n",
        "print('Accuracy Score: ',accuracy_score(y_test,y_pred_rf))\n",
        "print('Confusion Matrix: \\n',confusion_matrix(y_test,y_pred_rf))\n",
        "\n",
        "# 5) Adaptative Boosting\n",
        "\n",
        "from sklearn.ensemble import AdaBoostClassifier\n",
        "X = images\n",
        "y = np.array(df['target'])\n",
        "classifier_ab = AdaBoostClassifier()\n",
        "classifier_ab.fit(X,y)\n",
        "X_test = test_images\n",
        "y_test = np.array(test['target'])\n",
        "y_pred_ab = classifier_ab.predict(X_test)\n",
        "print('Accuracy Score: ',accuracy_score(y_test,y_pred_ab))\n",
        "print('Confusion Matrix: \\n',confusion_matrix(y_test,y_pred_ab))"
      ],
      "metadata": {
        "id": "hXQSSDqL39gR"
      },
      "execution_count": null,
      "outputs": []
    }
  ]
}